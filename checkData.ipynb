{
 "cells": [
  {
   "cell_type": "code",
   "execution_count": 5,
   "id": "0a6a0184",
   "metadata": {},
   "outputs": [
    {
     "data": {
      "text/plain": [
       "True"
      ]
     },
     "execution_count": 5,
     "metadata": {},
     "output_type": "execute_result"
    }
   ],
   "source": [
    "import cv2\n",
    "\n",
    "# ------------------------\n",
    "# กำหนดไฟล์\n",
    "# ------------------------\n",
    "image_path = \"./data/Right/Image224x224/0001_2m_-15P_-10V_-5H.jpg\"\n",
    "anno_path = \"./data/Right/Annotation224x224/0001_2m_-15P_-10V_-5H.txt\"\n",
    "\n",
    "# โหลดภาพ\n",
    "image = cv2.imread(image_path)\n",
    "\n",
    "# อ่าน annotation\n",
    "with open(anno_path, \"r\") as f:\n",
    "    lines = f.readlines()\n",
    "\n",
    "for line in lines:\n",
    "    values = line.strip().split()\n",
    "    if len(values) >= 3:\n",
    "        x = float(values[0])\n",
    "        y = float(values[1])\n",
    "        w = float(values[2])\n",
    "        h = w  # สมมติว่าความสูง = ความกว้าง (ถ้าไฟล์มีค่า h จริงให้ใส่เพิ่ม)\n",
    "\n",
    "        # วาดกล่อง (bounding box)\n",
    "        top_left = (int(x - w/2), int(y - h/2))\n",
    "        bottom_right = (int(x + w/2), int(y + h/2))\n",
    "        cv2.rectangle(image, top_left, bottom_right, (0, 0, 255), 2)\n",
    "\n",
    "        # วาดเส้น annotation (แนวนอนด้านบนกล่อง)\n",
    "        pt1 = (int(x - w/2), int(y - h/2))\n",
    "        pt2 = (int(x + w/2), int(y - h/2))\n",
    "        cv2.line(image, pt1, pt2, (0, 255, 0), 2)\n",
    "\n",
    "# แสดงผล\n",
    "cv2.imshow(\"Annotation\", image)\n",
    "cv2.waitKey(0)\n",
    "cv2.destroyAllWindows()\n",
    "\n",
    "# หรือเซฟออกเป็นไฟล์\n",
    "cv2.imwrite(\"output.jpg\", image)\n"
   ]
  }
 ],
 "metadata": {
  "kernelspec": {
   "display_name": ".venv",
   "language": "python",
   "name": "python3"
  },
  "language_info": {
   "codemirror_mode": {
    "name": "ipython",
    "version": 3
   },
   "file_extension": ".py",
   "mimetype": "text/x-python",
   "name": "python",
   "nbconvert_exporter": "python",
   "pygments_lexer": "ipython3",
   "version": "3.11.9"
  }
 },
 "nbformat": 4,
 "nbformat_minor": 5
}
